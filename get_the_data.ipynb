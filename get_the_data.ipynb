{
 "cells": [
  {
   "cell_type": "markdown",
   "metadata": {},
   "source": [
    "# Get the data\n",
    "This notebook will download each of the stackoverflow surveys from 2011 to 2020, extract the data, and clean up afterwards. \n",
    "\n",
    "When all is done the `/data/` directory will contain a csv for each year. "
   ]
  },
  {
   "cell_type": "code",
   "execution_count": 1,
   "metadata": {},
   "outputs": [],
   "source": [
    "import requests\n",
    "from zipfile import ZipFile\n",
    "import os"
   ]
  },
  {
   "cell_type": "code",
   "execution_count": 2,
   "metadata": {},
   "outputs": [],
   "source": [
    "os.makedirs('./data/archives', mode = 0o777, exist_ok = True)"
   ]
  },
  {
   "cell_type": "code",
   "execution_count": 3,
   "metadata": {},
   "outputs": [],
   "source": [
    "# specifiy urls of the data archives\n",
    "data = {\n",
    "    '2020': \"https://drive.google.com/uc?export=download&id=1dfGerWeWkcyQ9GX9x20rdSGj7WtEpzBB\",\n",
    "    '2019': \"https://drive.google.com/uc?export=download&id=1QOmVDpd8hcVYqqUXDXf68UMDWQZP0wQV\",\n",
    "    '2018': \"https://drive.google.com/uc?export=download&id=1_9On2-nsBQIw3JiY43sWbrF8EjrqrR4U\",\n",
    "    '2017': \"https://drive.google.com/uc?export=download&id=0B6ZlG_Eygdj-c1kzcmUxN05VUXM\",\n",
    "    '2016': \"https://drive.google.com/uc?export=download&id=0B0DL28AqnGsrV0VldnVIT1hyb0E\",\n",
    "    '2015': \"https://drive.google.com/uc?export=download&id=0B0DL28AqnGsra1psanV1MEdxZk0\",\n",
    "    '2014': \"https://drive.google.com/uc?export=download&id=0B0DL28AqnGsrempjMktvWFNaQzA\",\n",
    "    '2013': \"https://drive.google.com/uc?export=download&id=0B0DL28AqnGsrenpPNTc5UE1PYW8\",\n",
    "    '2012': \"https://drive.google.com/uc?export=download&id=0B0DL28AqnGsrX3JaZWVwWEpHNWM\",\n",
    "    '2011': \"https://drive.google.com/uc?export=download&id=0Bx0LyhBTBZQgUGVYaGx3SzdUQ1U\",\n",
    "}"
   ]
  },
  {
   "cell_type": "code",
   "execution_count": 4,
   "metadata": {},
   "outputs": [
    {
     "name": "stdout",
     "output_type": "stream",
     "text": [
      "getting 2020 from https://drive.google.com/uc?export=download&id=1dfGerWeWkcyQ9GX9x20rdSGj7WtEpzBB\n",
      "getting 2019 from https://drive.google.com/uc?export=download&id=1QOmVDpd8hcVYqqUXDXf68UMDWQZP0wQV\n",
      "getting 2018 from https://drive.google.com/uc?export=download&id=1_9On2-nsBQIw3JiY43sWbrF8EjrqrR4U\n",
      "getting 2017 from https://drive.google.com/uc?export=download&id=0B6ZlG_Eygdj-c1kzcmUxN05VUXM\n",
      "getting 2016 from https://drive.google.com/uc?export=download&id=0B0DL28AqnGsrV0VldnVIT1hyb0E\n",
      "getting 2015 from https://drive.google.com/uc?export=download&id=0B0DL28AqnGsra1psanV1MEdxZk0\n",
      "getting 2014 from https://drive.google.com/uc?export=download&id=0B0DL28AqnGsrempjMktvWFNaQzA\n",
      "getting 2013 from https://drive.google.com/uc?export=download&id=0B0DL28AqnGsrenpPNTc5UE1PYW8\n",
      "getting 2012 from https://drive.google.com/uc?export=download&id=0B0DL28AqnGsrX3JaZWVwWEpHNWM\n",
      "getting 2011 from https://drive.google.com/uc?export=download&id=0Bx0LyhBTBZQgUGVYaGx3SzdUQ1U\n"
     ]
    }
   ],
   "source": [
    "# download the data archives\n",
    "for year, url in data.items():\n",
    "    print(f\"getting {year} from {url}\")\n",
    "    r = requests.get(url, allow_redirects=True)\n",
    "    open(f'data/archives/{year}.zip', 'wb').write(r.content)"
   ]
  },
  {
   "cell_type": "code",
   "execution_count": 5,
   "metadata": {},
   "outputs": [],
   "source": [
    "# specify csv files within the archives\n",
    "files = {\n",
    "    '2020': 'survey_results_public.csv',\n",
    "    '2019': 'survey_results_public.csv',\n",
    "    '2018': 'survey_results_public.csv',\n",
    "    '2017': 'survey_results_public.csv',\n",
    "    '2016': '2016 Stack Overflow Survey Results/2016 Stack Overflow Survey Responses.csv',\n",
    "    '2015': '2015 Stack Overflow Developer Survey Responses.csv',\n",
    "    '2014': '2014 Stack Overflow Survey Responses.csv',\n",
    "    '2013': '2013 Stack Overflow Survey Responses.csv',\n",
    "    '2012': '2012 Stack Overflow Survey Results.csv',\n",
    "    '2011': '2011 Stack Overflow Survey Results.csv',\n",
    "}"
   ]
  },
  {
   "cell_type": "code",
   "execution_count": 6,
   "metadata": {},
   "outputs": [
    {
     "name": "stdout",
     "output_type": "stream",
     "text": [
      "extracting survey_results_public.csv from data/archives/2020.zip and renaming to 2020.csv\n",
      "extracting survey_results_public.csv from data/archives/2019.zip and renaming to 2019.csv\n",
      "extracting survey_results_public.csv from data/archives/2018.zip and renaming to 2018.csv\n",
      "extracting survey_results_public.csv from data/archives/2017.zip and renaming to 2017.csv\n",
      "extracting 2016 Stack Overflow Survey Results/2016 Stack Overflow Survey Responses.csv from data/archives/2016.zip and renaming to 2016.csv\n",
      "extracting 2015 Stack Overflow Developer Survey Responses.csv from data/archives/2015.zip and renaming to 2015.csv\n",
      "extracting 2014 Stack Overflow Survey Responses.csv from data/archives/2014.zip and renaming to 2014.csv\n",
      "extracting 2013 Stack Overflow Survey Responses.csv from data/archives/2013.zip and renaming to 2013.csv\n",
      "extracting 2012 Stack Overflow Survey Results.csv from data/archives/2012.zip and renaming to 2012.csv\n",
      "extracting 2011 Stack Overflow Survey Results.csv from data/archives/2011.zip and renaming to 2011.csv\n"
     ]
    }
   ],
   "source": [
    "# extract the csv files and rename them to the year the survey was conducted\n",
    "for year, csv_filename in files.items():\n",
    "    zip_filename = f\"data/archives/{year}.zip\"\n",
    "    with ZipFile(zip_filename, 'r') as zip: \n",
    "        # print(zip.namelist())\n",
    "        print(f\"extracting {csv_filename} from {zip_filename} and renaming to {year}.csv\")\n",
    "        zip.extract(csv_filename)\n",
    "        os.rename(csv_filename,f'data/{year}.csv')"
   ]
  },
  {
   "cell_type": "code",
   "execution_count": 7,
   "metadata": {},
   "outputs": [],
   "source": [
    "# cleanup a stray directory\n",
    "os.rmdir('2016 Stack Overflow Survey Results')"
   ]
  },
  {
   "cell_type": "code",
   "execution_count": 8,
   "metadata": {},
   "outputs": [],
   "source": [
    "# done"
   ]
  }
 ],
 "metadata": {
  "kernelspec": {
   "display_name": "Python 3",
   "language": "python",
   "name": "python3"
  },
  "language_info": {
   "codemirror_mode": {
    "name": "ipython",
    "version": 3
   },
   "file_extension": ".py",
   "mimetype": "text/x-python",
   "name": "python",
   "nbconvert_exporter": "python",
   "pygments_lexer": "ipython3",
   "version": "3.7.3"
  }
 },
 "nbformat": 4,
 "nbformat_minor": 4
}
